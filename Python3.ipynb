{
  "nbformat": 4,
  "nbformat_minor": 0,
  "metadata": {
    "colab": {
      "provenance": [],
      "toc_visible": true,
      "authorship_tag": "ABX9TyMzclgrm2LqS0eayhvJgv/r",
      "include_colab_link": true
    },
    "kernelspec": {
      "name": "python3",
      "display_name": "Python 3"
    },
    "language_info": {
      "name": "python"
    }
  },
  "cells": [
    {
      "cell_type": "markdown",
      "metadata": {
        "id": "view-in-github",
        "colab_type": "text"
      },
      "source": [
        "<a href=\"https://colab.research.google.com/github/rafapupoh/anotar/blob/main/Python3.ipynb\" target=\"_parent\"><img src=\"https://colab.research.google.com/assets/colab-badge.svg\" alt=\"Open In Colab\"/></a>"
      ]
    },
    {
      "cell_type": "code",
      "source": [
        "def obter_temperatura_valida(mes):\n",
        "    \"\"\"Obtém e valida a temperatura máxima para um mês.\"\"\"\n",
        "    while True:\n",
        "        try:\n",
        "            temp = float(input(f\"Temperatura máxima para o mês {mes}: \"))\n",
        "            if -60 <= temp <= 50:\n",
        "                return temp\n",
        "            else:\n",
        "                print(\"Temperatura inválida. Deve estar entre -60 e 50 graus Celsius.\")\n",
        "        except ValueError:\n",
        "            print(\"Entrada inválida. Digite um número.\")\n",
        "\n",
        "def obter_mes_valido():\n",
        "    \"\"\"Obtém e valida o número do mês.\"\"\"\n",
        "    while True:\n",
        "        try:\n",
        "            mes = int(input(\"Digite o número do mês (1 a 12): \"))\n",
        "            if 1 <= mes <= 12:\n",
        "                return mes\n",
        "            else:\n",
        "                print(\"Mês inválido. Deve estar entre 1 e 12.\")\n",
        "        except ValueError:\n",
        "            print(\"Entrada inválida. Digite um número inteiro.\")\n",
        "\n",
        "def mes_por_extenso(numero_mes):\n",
        "    \"\"\"Retorna o nome do mês por extenso.\"\"\"\n",
        "    meses = {\n",
        "        1: \"janeiro\", 2: \"fevereiro\", 3: \"março\", 4: \"abril\", 5: \"maio\", 6: \"junho\",\n",
        "        7: \"julho\", 8: \"agosto\", 9: \"setembro\", 10: \"outubro\", 11: \"novembro\", 12: \"dezembro\"\n",
        "    }\n",
        "    return meses[numero_mes]\n",
        "\n",
        "def main():\n",
        "    \"\"\"Função principal para coletar e analisar dados meteorológicos.\"\"\"\n",
        "    temperaturas_maximas = []\n",
        "    meses = []\n",
        "\n",
        "    for _ in range(12):\n",
        "        mes = obter_mes_valido()\n",
        "        temperatura = obter_temperatura_valida(mes)\n",
        "        temperaturas_maximas.append(temperatura)\n",
        "        meses.append(mes)\n",
        "\n",
        "    # Cálculos\n",
        "    soma_temperaturas = sum(temperaturas_maximas) #calcula a soma\n",
        "    media_maxima_anual = soma_temperaturas / 12\n",
        "    meses_escaldantes = sum(1 for temp in temperaturas_maximas if temp > 33)\n",
        "    mes_mais_escaldante = meses[temperaturas_maximas.index(max(temperaturas_maximas))]\n",
        "    mes_menos_quente = meses[temperaturas_maximas.index(min(temperaturas_maximas))]\n",
        "\n",
        "    # Exibição dos resultados\n",
        "    print(f\"\\nSoma das temperaturas: {soma_temperaturas:.2f} graus Celsius\") #exibe a soma\n",
        "    print(f\"\\nTemperatura média máxima anual: {media_maxima_anual:.2f} graus Celsius\")\n",
        "    print(f\"Quantidade de meses escaldantes: {meses_escaldantes}\")\n",
        "    print(f\"Mês mais escaldante do ano: {mes_por_extenso(mes_mais_escaldante)}\")\n",
        "    print(f\"Mês menos quente do ano: {mes_por_extenso(mes_menos_quente)}\")\n",
        "\n",
        "if __name__ == \"__main__\":\n",
        "    main()"
      ],
      "metadata": {
        "id": "-n3RqbfGQSfY",
        "colab": {
          "base_uri": "https://localhost:8080/"
        },
        "outputId": "4bde7655-0922-486c-c9ac-da30c35e16da"
      },
      "execution_count": 20,
      "outputs": [
        {
          "output_type": "stream",
          "name": "stdout",
          "text": [
            "Digite o número do mês (1 a 12): 1\n",
            "Temperatura máxima para o mês 1: 34.3\n",
            "Digite o número do mês (1 a 12): 2\n",
            "Temperatura máxima para o mês 2: 36\n",
            "Digite o número do mês (1 a 12): 3\n",
            "Temperatura máxima para o mês 3: 31\n",
            "Digite o número do mês (1 a 12): 4\n",
            "Temperatura máxima para o mês 4: 31.7\n",
            "Digite o número do mês (1 a 12): 5\n",
            "Temperatura máxima para o mês 5: 31\n",
            "Digite o número do mês (1 a 12): 6\n",
            "Temperatura máxima para o mês 6: 20\n",
            "Digite o número do mês (1 a 12): 7\n",
            "Temperatura máxima para o mês 7: 17\n",
            "Digite o número do mês (1 a 12): 8\n",
            "Temperatura máxima para o mês 8: 42.5\n",
            "Digite o número do mês (1 a 12): 9\n",
            "Temperatura máxima para o mês 9: 37\n",
            "Digite o número do mês (1 a 12): 10\n",
            "Temperatura máxima para o mês 10: 32.1\n",
            "Digite o número do mês (1 a 12): 11\n",
            "Temperatura máxima para o mês 11: 33\n",
            "Digite o número do mês (1 a 12): 12\n",
            "Temperatura máxima para o mês 12: 23\n",
            "\n",
            "Soma das temperaturas: 368.60 graus Celsius\n",
            "\n",
            "Temperatura média máxima anual: 30.72 graus Celsius\n",
            "Quantidade de meses escaldantes: 4\n",
            "Mês mais escaldante do ano: agosto\n",
            "Mês menos quente do ano: julho\n"
          ]
        }
      ]
    },
    {
      "cell_type": "code",
      "source": [
        "def obter_temperatura_valida(mes):\n",
        "    \"\"\"Obtém e valida a temperatura máxima para um mês.\"\"\"\n",
        "    while True:\n",
        "        try:\n",
        "            temp = float(input(f\"Temperatura máxima para o mês {mes}: \"))\n",
        "            if -60 <= temp <= 50:\n",
        "                return temp\n",
        "            else:\n",
        "                print(\"Temperatura inválida. Deve estar entre -60 e 50 graus Celsius.\")\n",
        "        except ValueError:\n",
        "            print(\"Entrada inválida. Digite um número.\")\n",
        "\n",
        "def obter_mes_valido():\n",
        "    \"\"\"Obtém e valida o número do mês.\"\"\"\n",
        "    while True:\n",
        "        try:\n",
        "            mes = int(input(\"Digite o número do mês (1 a 12): \"))\n",
        "            if 1 <= mes <= 12:\n",
        "                return mes\n",
        "            else:\n",
        "                print(\"Mês inválido. Deve estar entre 1 e 12.\")\n",
        "        except ValueError:\n",
        "            print(\"Entrada inválida. Digite um número inteiro.\")\n",
        "\n",
        "def mes_por_extenso(numero_mes):\n",
        "    \"\"\"Retorna o nome do mês por extenso.\"\"\"\n",
        "    meses = {\n",
        "        1: \"janeiro\", 2: \"fevereiro\", 3: \"março\", 4: \"abril\", 5: \"maio\", 6: \"junho\",\n",
        "        7: \"julho\", 8: \"agosto\", 9: \"setembro\", 10: \"outubro\", 11: \"novembro\", 12: \"dezembro\"\n",
        "    }\n",
        "    return meses[numero_mes]\n",
        "\n",
        "def main():\n",
        "    \"\"\"Função principal para coletar e analisar dados meteorológicos.\"\"\"\n",
        "    temperaturas_maximas = []\n",
        "    meses = []\n",
        "\n",
        "    for _ in range(12):\n",
        "        mes = obter_mes_valido()\n",
        "        temperatura = obter_temperatura_valida(mes)\n",
        "        temperaturas_maximas.append(temperatura)\n",
        "        meses.append(mes)\n",
        "\n",
        "    # Cálculos\n",
        "    media_maxima_anual = sum(temperaturas_maximas) / 12\n",
        "    meses_escaldantes = sum(1 for temp in temperaturas_maximas if temp > 33)\n",
        "    mes_mais_escaldante = meses[temperaturas_maximas.index(max(temperaturas_maximas))]\n",
        "    mes_menos_quente = meses[temperaturas_maximas.index(min(temperaturas_maximas))]\n",
        "\n",
        "    # Exibição dos resultados\n",
        "    print(f\"\\nTemperatura média máxima anual: {media_maxima_anual:.2f} graus Celsius\")\n",
        "    print(f\"Quantidade de meses escaldantes: {meses_escaldantes}\")\n",
        "    print(f\"Mês mais escaldante do ano: {mes_por_extenso(mes_mais_escaldante)}\")\n",
        "    print(f\"Mês menos quente do ano: {mes_por_extenso(mes_menos_quente)}\")\n",
        "\n",
        "if __name__ == \"__main__\":\n",
        "    main()"
      ],
      "metadata": {
        "colab": {
          "base_uri": "https://localhost:8080/"
        },
        "id": "ACnoegH0TGeg",
        "outputId": "467ae78a-c5eb-4364-d6e7-7f04da33a414"
      },
      "execution_count": null,
      "outputs": [
        {
          "output_type": "stream",
          "name": "stdout",
          "text": [
            "Digite o número do mês (1 a 12): 13\n",
            "Mês inválido. Deve estar entre 1 e 12.\n",
            "Digite o número do mês (1 a 12): 1\n",
            "Temperatura máxima para o mês 1: 90\n",
            "Temperatura inválida. Deve estar entre -60 e 50 graus Celsius.\n",
            "Temperatura máxima para o mês 1: abc\n",
            "Entrada inválida. Digite um número.\n"
          ]
        }
      ]
    },
    {
      "cell_type": "code",
      "source": [],
      "metadata": {
        "id": "ZWaMKgK8QYKm"
      },
      "execution_count": null,
      "outputs": []
    }
  ]
}